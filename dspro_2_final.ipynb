{
 "cells": [
  {
   "cell_type": "code",
   "execution_count": 2,
   "metadata": {},
   "outputs": [
    {
     "name": "stdout",
     "output_type": "stream",
     "text": [
      "Defaulting to user installation because normal site-packages is not writeable\n",
      "Collecting beautifulsoup4\n",
      "  Downloading beautifulsoup4-4.12.2-py3-none-any.whl (142 kB)\n",
      "\u001b[2K     \u001b[90m━━━━━━━━━━━━━━━━━━━━━━━━━━━━━━━━━━━━━━━\u001b[0m \u001b[32m143.0/143.0 kB\u001b[0m \u001b[31m6.3 MB/s\u001b[0m eta \u001b[36m0:00:00\u001b[0m\n",
      "\u001b[?25hCollecting soupsieve>1.2 (from beautifulsoup4)\n",
      "  Obtaining dependency information for soupsieve>1.2 from https://files.pythonhosted.org/packages/4c/f3/038b302fdfbe3be7da016777069f26ceefe11a681055ea1f7817546508e3/soupsieve-2.5-py3-none-any.whl.metadata\n",
      "  Downloading soupsieve-2.5-py3-none-any.whl.metadata (4.7 kB)\n",
      "Downloading soupsieve-2.5-py3-none-any.whl (36 kB)\n",
      "Installing collected packages: soupsieve, beautifulsoup4\n",
      "Successfully installed beautifulsoup4-4.12.2 soupsieve-2.5\n",
      "\n",
      "\u001b[1m[\u001b[0m\u001b[34;49mnotice\u001b[0m\u001b[1;39;49m]\u001b[0m\u001b[39;49m A new release of pip is available: \u001b[0m\u001b[31;49m23.2.1\u001b[0m\u001b[39;49m -> \u001b[0m\u001b[32;49m23.3.2\u001b[0m\n",
      "\u001b[1m[\u001b[0m\u001b[34;49mnotice\u001b[0m\u001b[1;39;49m]\u001b[0m\u001b[39;49m To update, run: \u001b[0m\u001b[32;49m/Library/Developer/CommandLineTools/usr/bin/python3 -m pip install --upgrade pip\u001b[0m\n",
      "Note: you may need to restart the kernel to use updated packages.\n"
     ]
    }
   ],
   "source": [
    "pip install beautifulsoup4"
   ]
  },
  {
   "cell_type": "code",
   "execution_count": 3,
   "metadata": {},
   "outputs": [
    {
     "name": "stderr",
     "output_type": "stream",
     "text": [
      "/Users/yukino/Library/Python/3.9/lib/python/site-packages/urllib3/__init__.py:34: NotOpenSSLWarning: urllib3 v2.0 only supports OpenSSL 1.1.1+, currently the 'ssl' module is compiled with 'LibreSSL 2.8.3'. See: https://github.com/urllib3/urllib3/issues/3020\n",
      "  warnings.warn(\n"
     ]
    }
   ],
   "source": [
    "import time\n",
    "from bs4 import BeautifulSoup\n",
    "import requests"
   ]
  },
  {
   "cell_type": "code",
   "execution_count": 7,
   "metadata": {},
   "outputs": [],
   "source": [
<<<<<<< HEAD
    "#変数urlにURLを格納する\n",
=======
    "#変数urlにURLを格納する。\n",
>>>>>>> 35c23dc4f3dfdc35d5d79e26d706d94772129742
    "url = 'https://db.netkeiba.com/race/202306050811/'\n",
    "\n",
    "response = requests.get(url)\n",
    "soup = BeautifulSoup(response.content, 'html.parser')\n",
    "\n",
    "#変数d_listに空のリストを作成する\n",
    "d_list=[]"
   ]
  },
  {
   "cell_type": "code",
   "execution_count": 14,
   "metadata": {},
   "outputs": [
    {
     "name": "stdout",
     "output_type": "stream",
     "text": [
      "{'horse_name': 'ドウデュース', 'race_time': '2:30.9', 'horse_weight': '506(+2)'}\n",
      "{'horse_name': 'スターズオンアース', 'race_time': '2:31.0', 'horse_weight': '494(-2)'}\n",
      "{'horse_name': 'タイトルホルダー', 'race_time': '2:31.2', 'horse_weight': '474(-2)'}\n",
      "{'horse_name': 'ジャスティンパレス', 'race_time': '2:31.2', 'horse_weight': '474(+6)'}\n",
      "{'horse_name': 'シャフリヤール', 'race_time': '2:31.2', 'horse_weight': '454(0)'}\n",
      "{'horse_name': 'タスティエーラ', 'race_time': '2:31.5', 'horse_weight': '498(+18)'}\n",
      "{'horse_name': 'ウインマリリン', 'race_time': '2:31.6', 'horse_weight': '476(0)'}\n",
      "{'horse_name': 'ソールオリエンス', 'race_time': '2:31.6', 'horse_weight': '466(+2)'}\n",
      "{'horse_name': 'ハーパー', 'race_time': '2:31.6', 'horse_weight': '474(-10)'}\n",
      "{'horse_name': 'ホウオウエミーズ', 'race_time': '2:31.7', 'horse_weight': '452(+2)'}\n",
      "{'horse_name': 'アイアンバローズ', 'race_time': '2:31.8', 'horse_weight': '506(+2)'}\n",
      "{'horse_name': 'スルーセブンシーズ', 'race_time': '2:31.8', 'horse_weight': '456(0)'}\n",
      "{'horse_name': 'ライラック', 'race_time': '2:31.8', 'horse_weight': '448(+6)'}\n",
      "{'horse_name': 'プラダリア', 'race_time': '2:31.9', 'horse_weight': '464(-6)'}\n",
      "{'horse_name': 'ディープボンド', 'race_time': '2:32.4', 'horse_weight': '500(+6)'}\n",
      "{'horse_name': 'ヒートオンビート', 'race_time': '2:32.4', 'horse_weight': '472(-4)'}\n"
     ]
    }
   ],
   "source": [
    "d_list = []\n",
    "\n",
    "rows = soup.find_all('tr')[1:]  # 最初の行はヘッダーなのでスキップ\n",
    "\n",
    "for row in rows:\n",
    "    columns = row.find_all('td')\n",
    "\n",
    "    # 必要な情報がない場合はスキップ\n",
    "    if len(columns) < 14:\n",
    "        continue\n",
    "\n",
    "    # 馬名\n",
    "    horse_name = columns[3].get_text(strip=True)  # 修正\n",
    "\n",
    "    # タイム\n",
    "    race_time = columns[7].get_text(strip=True)  # 修正\n",
    "\n",
    "    # 馬体重\n",
    "    horse_weight = columns[14].get_text(strip=True)  # 修正\n",
    "\n",
    "    # スクレイピングしたデータを辞書に追加\n",
    "    scraped_data = {\"horse_name\": horse_name, \"race_time\": race_time, \"horse_weight\": horse_weight}\n",
    "    d_list.append(scraped_data)\n",
    "# スクレイピングしたデータを出力\n",
    "for data in d_list:\n",
    "    print(data)"
   ]
  },
  {
   "cell_type": "code",
   "execution_count": 15,
   "metadata": {},
   "outputs": [],
   "source": [
    "import sqlite3"
   ]
  },
  {
   "cell_type": "code",
   "execution_count": 16,
   "metadata": {},
   "outputs": [
    {
     "name": "stdout",
     "output_type": "stream",
     "text": [
      "/Users/yukino/programing/dspro_2\n"
     ]
    }
   ],
   "source": [
    "!pwd"
   ]
  },
  {
   "cell_type": "code",
   "execution_count": 20,
   "metadata": {},
   "outputs": [],
   "source": [
    "import os\n",
    "\n",
    "# ディレクトリの存在確認と作成\n",
    "if not os.path.exists(path):\n",
    "    os.makedirs(path)"
   ]
  },
  {
   "cell_type": "code",
   "execution_count": 21,
   "metadata": {},
   "outputs": [],
   "source": [
    "import sqlite3\n",
    "\n",
    "# ローカルでの保存先ディレクトリ\n",
    "path = '../db/'\n",
    "\n",
    "# DBファイル名\n",
    "db_name = 'dspro_final.sqlite'\n",
    "\n",
    "# DBに接続する（指定したDBファイルが存在しない場合は、新規に作成される）\n",
    "con = sqlite3.connect(path + db_name)\n",
    "\n",
    "# DBへの接続を閉じる\n",
    "con.close()"
   ]
  },
  {
   "cell_type": "code",
   "execution_count": 22,
   "metadata": {},
   "outputs": [],
   "source": [
    "#１. DBに接続する\n",
    "con = sqlite3.connect(path + db_name)\n",
    "#print(type(con))\n",
    "\n",
    "#２. SQLを実行するためのオブジェクトを取得\n",
    "cur = con.cursor()\n",
    "\n",
    "#３. 実行したいSQLを用意する\n",
    "#テーブルを作成するSQL\n",
    "#CREATE TABLE　テーブル名（カラム名　型, ...）;\n",
    "sql_create_table_git_hw1 = 'CREATE TABLE git_hw1(horse_name text, race_time text, horse_weight text);'\n",
    "\n",
    "#４. SQLを実行する\n",
    "cur.execute(sql_create_table_git_hw1)\n",
    "\n",
    "#５. 必要があればコミットする（データ変更等があった場合）\n",
    "\n",
    "\n",
    "#６. DBへの接続を閉じる\n",
    "con.close()"
   ]
  },
  {
   "cell_type": "code",
   "execution_count": 23,
   "metadata": {},
   "outputs": [],
   "source": [
    "\n",
    "#１. DBに接続する\n",
    "con = sqlite3.connect(path + db_name)\n",
    "#print(type(con))\n",
    "\n",
    "#２. SQLを実行するためのオブジェクトを取得\n",
    "cur = con.cursor()\n",
    "\n",
    "#３. SQLを用意\n",
    "#データを挿入するSQL\n",
    "#INSERT INTO テーブル名　VALUES(列に対応したデータをカンマ区切りで)；\n",
    "for hw in d_list:\n",
    "  horse_name=hw[\"horse_name\"]\n",
    "  race_time=hw[\"race_time\"]\n",
    "  horse_weight=hw[\"horse_weight\"]\n",
    "\n",
    "\n",
    "  sql_insert_many = \"INSERT INTO git_hw1(horse_name, race_time, horse_weight) VALUES (?, ?, ?);\"\n",
    "\n",
    "  cur.execute(sql_insert_many,(horse_name, race_time, horse_weight))\n",
    "\n",
    "\n",
    "#５. コミット処理（データ操作を反映させる）\n",
    "con.commit()\n",
    "\n",
    "#６. DBへの接続を閉じる\n",
    "con.close()"
   ]
  },
  {
   "cell_type": "code",
   "execution_count": 24,
   "metadata": {},
   "outputs": [
    {
     "name": "stdout",
     "output_type": "stream",
     "text": [
      "('ドウデュース', '2:30.9', '506(+2)')\n",
      "('スターズオンアース', '2:31.0', '494(-2)')\n",
      "('タイトルホルダー', '2:31.2', '474(-2)')\n",
      "('ジャスティンパレス', '2:31.2', '474(+6)')\n",
      "('シャフリヤール', '2:31.2', '454(0)')\n",
      "('タスティエーラ', '2:31.5', '498(+18)')\n",
      "('ウインマリリン', '2:31.6', '476(0)')\n",
      "('ソールオリエンス', '2:31.6', '466(+2)')\n",
      "('ハーパー', '2:31.6', '474(-10)')\n",
      "('ホウオウエミーズ', '2:31.7', '452(+2)')\n",
      "('アイアンバローズ', '2:31.8', '506(+2)')\n",
      "('スルーセブンシーズ', '2:31.8', '456(0)')\n",
      "('ライラック', '2:31.8', '448(+6)')\n",
      "('プラダリア', '2:31.9', '464(-6)')\n",
      "('ディープボンド', '2:32.4', '500(+6)')\n",
      "('ヒートオンビート', '2:32.4', '472(-4)')\n"
     ]
    }
   ],
   "source": [
    "#１. DBに接続する\n",
    "con = sqlite3.connect(path + db_name)\n",
    "#print(type(con))\n",
    "\n",
    "#２. SQLを実行するためのオブジェクトを取得\n",
    "cur = con.cursor()\n",
    "\n",
    "#３. SQLを用意\n",
    "# SELECT * FROM テーブル名;\n",
    "# *の部分は取得したい列の名前をカンマ区切りで指定することもできる\n",
    "sql_select = 'SELECT * FROM git_hw1;'\n",
    "\n",
    "#４. SQLを実行\n",
    "cur.execute(sql_select)\n",
    "\n",
    "for r in cur:\n",
    "  print(r)\n",
    "\n",
    "#５.\n",
    "\n",
    "#６. DBへの接続を閉じる\n",
    "con.close()"
   ]
  }
 ],
 "metadata": {
  "kernelspec": {
   "display_name": "Python 3",
   "language": "python",
   "name": "python3"
  },
  "language_info": {
   "codemirror_mode": {
    "name": "ipython",
    "version": 3
   },
   "file_extension": ".py",
   "mimetype": "text/x-python",
   "name": "python",
   "nbconvert_exporter": "python",
   "pygments_lexer": "ipython3",
   "version": "3.9.6"
  }
 },
 "nbformat": 4,
 "nbformat_minor": 2
}
